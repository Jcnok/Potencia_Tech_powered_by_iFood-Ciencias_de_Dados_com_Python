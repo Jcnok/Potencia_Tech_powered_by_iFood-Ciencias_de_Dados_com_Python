{
 "cells": [
  {
   "cell_type": "markdown",
   "id": "5c03478e",
   "metadata": {},
   "source": [
    "# Resolução dos desafios de Código Python."
   ]
  },
  {
   "cell_type": "markdown",
   "id": "77fbfe26",
   "metadata": {},
   "source": [
    "<img src=\"./img/python.jpg\" referrerpolicy=\"same-origin\" style=\"display: block; object-fit: cover; border-radius: 0px; width: 100%; height: 30vh; opacity: 1; object-position: center 50%;\">"
   ]
  },
  {
   "cell_type": "markdown",
   "id": "5674592b",
   "metadata": {},
   "source": [
    "<a name=\"ancora\"></a>\n",
    "\n",
    "# Desafios:\n",
    "\n",
    "1. [Tempo Estimado de Entrega](#ancora1)\n",
    "2. [Organizando seus Ativos](#ancora2)\n",
    "3. [Ganhe uma Sobremesa Especial!](#ancora3)\n",
    "4. [Gerenciamento de Pedidos de Comida Online](#ancora4)   \n",
    "5. [Identificando Pedidos Veganos](#ancora5)  \n",
    "\n",
    "<a name=\"ancora\"></a>"
   ]
  },
  {
   "cell_type": "markdown",
   "id": "0c856de4",
   "metadata": {},
   "source": [
    "<a id=\"ancora1\"></a>\n",
    "## Desafio: Tempo Estimado de Entrega"
   ]
  },
  {
   "cell_type": "markdown",
   "id": "56deb298",
   "metadata": {},
   "source": [
    "### Desafio\n",
    "Imagine que você está criando um aplicativo de entrega de comida e precisa informar ao usuário o tempo estimado de entrega de um restaurante. A mensagem deve conter o nome do restaurante e o tempo estimado de entrega em minutos.\n",
    "\n",
    "### Entrada\n",
    "- A entrada deverá receber os valores abaixo:\n",
    "\n",
    "  - nomeRestaurante (string): o nome do restaurante desejado.\n",
    "  - tempoEstimadoEntrega (number): o tempo estimado de entrega em minutos.\n",
    "  \n",
    "### Saída\n",
    "- Deverá retornar uma mensagem (string) informando ao usuário o tempo estimado de entrega do restaurante. Por exemplo, para o restaurante Bar do Zinho com o tempo estimado de entrega sendo 20, imprima:\n",
    "'O restaurante Bar do Zinho entrega em 20 minutos.'\n",
    "\n",
    "### Desafio Bônus: \n",
    "Utilize interpolação de strings para formatar sua saída ao invés da concatenação de strings tradicional.\n",
    "\n",
    "### Exemplos\n",
    "A tabela abaixo apresenta exemplos com alguns dados de entrada e suas respectivas saídas esperadas. Certifique-se de testar seu programa com esses exemplos e com outros casos possíveis.\n"
   ]
  },
  {
   "cell_type": "markdown",
   "id": "b1d8bb1a",
   "metadata": {},
   "source": [
    "Exemplo de Entrada | Exemplo de Saída\n",
    ":-----------------:|:------------------:\n",
    "McDonalds   |\n",
    "10          | O restaurante McDonalds entrega em 10 minutos.\n",
    "----------- | ---------------------------------\n",
    "KFC         |\n",
    "25          | O restaurante KFC entrega em 25 minutos.\n",
    "----------- | ---------------------------------\n",
    "Burger King | \n",
    "5           | O restaurante Burguer King entrega em 5 minutos.\n",
    "5"
   ]
  },
  {
   "cell_type": "markdown",
   "id": "454808c8",
   "metadata": {},
   "source": [
    "### Código:"
   ]
  },
  {
   "cell_type": "code",
   "execution_count": 3,
   "id": "ed12f1cf",
   "metadata": {},
   "outputs": [
    {
     "name": "stdout",
     "output_type": "stream",
     "text": [
      "McDonalds\n",
      "10\n",
      "O restaurante McDonalds entrega em 10 minutos.\n"
     ]
    }
   ],
   "source": [
    "nomeRestaurante = input()\n",
    "tempoEstimadoEntrega = int(input())\n",
    "\n",
    "print(f\"O restaurante {nomeRestaurante} entrega em {tempoEstimadoEntrega} minutos.\")"
   ]
  },
  {
   "cell_type": "markdown",
   "id": "bdda5266",
   "metadata": {},
   "source": [
    "[voltar](#ancora)"
   ]
  },
  {
   "cell_type": "markdown",
   "id": "cc6a3741",
   "metadata": {},
   "source": [
    "<a id=\"ancora2\"></a>\n",
    "## Desafio: Calcular o Preço Final de um Pedido"
   ]
  },
  {
   "cell_type": "markdown",
   "id": "6052598a",
   "metadata": {},
   "source": [
    "### Desafio\n",
    "Você está criando um aplicativo de entrega de comida e precisa calcular o preço final do pedido do usuário. O usuário escolheu alguns itens do cardápio e é preciso calcular o preço total do pedido.\n",
    "\n",
    "### Entrada:\n",
    "- A entrada deve receber os valores abaixo:\n",
    "\n",
    "   - valorHamburguer: o valor unitário de um hambúrguer.\n",
    "   - quantidadeHamburguer: a quantidade de hambúrgueres que o usuário deseja.\n",
    "   - valorBebida: o valor unitário de uma bebida.\n",
    "   - quantidadeBebida: a quantidade de bebidas que o usuário deseja.\n",
    "   - valorPago: o valor pago pelo usuário.\n",
    "\n",
    "### Saída:\n",
    "- A saída deve retornar um texto informando o valor total do pedido e a quantidade de troco que será necessário. Por exemplo, se tivermos os seguintes valores de entrada:\n",
    "\n",
    "    - valorHamburguer = 10.00;\n",
    "    - quantidadeHamburguer = 2;\n",
    "    - valorBebida = 5.00;\n",
    "    - quantidadeBebida = 1;\n",
    "    - valorPago = 30.00;\n",
    "- De acordo com esses valores de entrada, o cálculo do preço final do pedido ficaria assim:\n",
    "\n",
    "    - Valor total dos hambúrgueres: 10.00 * 2 = 20.00\n",
    "    - Valor total da bebida: 5.00 * 1 = 5.00\n",
    "    - Preço total do pedido: 20.00 + 5.00 = 25.00\n",
    "    - Troco necessário: 30.00 - 25.00 = 5.00\n",
    "    \n",
    "- Como o usuário pagou 30.00 e o preço total do pedido ficou em 25.00 o troco necessário é de 5.00. Portanto, a saída esperada para esse exemplo seria:\n",
    "\n",
    "    - O preço final do pedido é R\\$ 25.00. Seu troco é R\\\\$ 5.00.\n",
    "\n",
    "### Exemplos\n",
    "A tabela abaixo apresenta exemplos com alguns dados de entrada e suas respectivas saídas esperadas. Certifique-se de testar seu programa com esses exemplos e com outros casos possíveis."
   ]
  },
  {
   "cell_type": "markdown",
   "id": "3b68c353",
   "metadata": {},
   "source": [
    "Exemplo de Entrada | Exemplo de Saída\n",
    ":-----------------:|:------------------:\n",
    "10.00  | \n",
    "2      |\n",
    "5.00   | O preço final do pedido é R\\$ 25.00. Seu troco é R\\\\$ 5.00.\n",
    "1      |\n",
    "30.00  |\n",
    "-----  | ---------------------------------\n",
    "15.00  |  \n",
    "3      | \n",
    "6.00   | O preço final do pedido é R\\$ 57.00. Seu troco é R\\\\$ 3.00.\n",
    "2      |\n",
    "60.00  |\n",
    "-----  | ---------------------------------\n",
    "8.00   | \n",
    "1      | \n",
    "4.00   | O preço final do pedido é R\\$ 24.00. Seu troco é R\\\\$ 30.00.\n",
    "4      |\n",
    "50.00  |"
   ]
  },
  {
   "cell_type": "markdown",
   "id": "a58763cb",
   "metadata": {},
   "source": [
    "### Código:"
   ]
  },
  {
   "cell_type": "code",
   "execution_count": 4,
   "id": "2b5194dc",
   "metadata": {},
   "outputs": [
    {
     "name": "stdout",
     "output_type": "stream",
     "text": [
      "10\n",
      "2\n",
      "5.00\n",
      "1\n",
      "30.00\n",
      "O preço final do pedido é R$ 25.00. Seu troco é R$ 5.00.\n"
     ]
    }
   ],
   "source": [
    "valorHamburguer = float(input())\n",
    "quantidadeHamburguer = int(input())\n",
    "valorBebida = float(input())\n",
    "quantidadeBebida = int(input())\n",
    "valorPago = float(input())\n",
    "\n",
    "precoHamburguer = valorHamburguer * quantidadeHamburguer\n",
    "precoBebida = valorBebida * quantidadeBebida\n",
    "precoTotal = precoHamburguer + precoBebida\n",
    "troco = valorPago - precoTotal\n",
    "\n",
    "mensagem = f\"O preço final do pedido é R$ {precoTotal:.2f}. Seu troco é R$ {troco:.2f}.\"\n",
    "print(mensagem)"
   ]
  },
  {
   "cell_type": "markdown",
   "id": "ea5772d7",
   "metadata": {},
   "source": [
    "[voltar](#ancora)"
   ]
  },
  {
   "cell_type": "markdown",
   "id": "3957d824",
   "metadata": {},
   "source": [
    "<a id=\"ancora3\"></a>\n",
    "## Desafio: Ganhe uma Sobremesa Especial!"
   ]
  },
  {
   "cell_type": "markdown",
   "id": "b56d0afe",
   "metadata": {},
   "source": [
    "### Desafio\n",
    "Crie um programa que informe ao usuário se ele pode receber um brinde especial de acordo com o valor total do pedido. Se o valor total do pedido for maior ou igual a R\\$ 50.00, o usuário receberá uma sobremesa grátis. Caso contrário, o usuário não receberá nenhum brinde.\n",
    "\n",
    "### Entrada\n",
    "- A entrada deverá receber o valor total do pedido em uma variável numérica:\n",
    "    - valorPedido: o valor do pedido.\n",
    "\n",
    "### Saída\n",
    "- Deverá retornar uma mensagem (string) que informa se o usuário ganhou uma sobremesa ou não:\n",
    "\n",
    "   - Se valorPedido >= 50, a mensagem deve ser:\n",
    "   - Parabens, você ganhou uma sobremesa gratis!\n",
    "   - Caso contrário, a mensagem deve ser:\n",
    "   - Que pena, você nao ganhou nenhum brinde especial.\n",
    "\n",
    "### Desafio Bônus: \n",
    "- Utilize interpolação de strings para formatar sua saída ao invés da concatenação de strings tradicional.\n",
    "\n",
    "### Exemplos\n",
    "A tabela abaixo apresenta exemplos com alguns dados de entrada e suas respectivas saídas esperadas. Certifique-se de testar seu programa com esses exemplos e com outros casos possíveis."
   ]
  },
  {
   "cell_type": "markdown",
   "id": "d57e76aa",
   "metadata": {},
   "source": [
    "Exemplo de Entrada | Exemplo de Saída\n",
    ":-----------------:|:------------------:\n",
    "60    | Parabens, você ganhou uma sobremesa gratis!\n",
    "----- | ---------------------------------\n",
    "30    | Que pena, você nao ganhou nenhum brinde especial.\n",
    "----- | ---------------------------------\n",
    "90    | Parabens, você ganhou uma sobremesa gratis!"
   ]
  },
  {
   "cell_type": "markdown",
   "id": "8d3cc47d",
   "metadata": {},
   "source": [
    "### Código:"
   ]
  },
  {
   "cell_type": "code",
   "execution_count": 5,
   "id": "4c33d49f",
   "metadata": {},
   "outputs": [
    {
     "name": "stdout",
     "output_type": "stream",
     "text": [
      "60\n",
      "Parabens, você ganhou uma sobremesa gratis!\n"
     ]
    }
   ],
   "source": [
    "valorPedido = int(input())\n",
    "\n",
    "\n",
    "if valorPedido >= 50:\n",
    "    mensagem = \"Parabens, você ganhou uma sobremesa gratis!\"\n",
    "else:\n",
    "    mensagem = \"Que pena, você nao ganhou nenhum brinde especial.\"\n",
    "\n",
    "print(mensagem)"
   ]
  },
  {
   "cell_type": "markdown",
   "id": "a9d00293",
   "metadata": {},
   "source": [
    "[voltar](#ancora)"
   ]
  },
  {
   "cell_type": "markdown",
   "id": "43658969",
   "metadata": {},
   "source": [
    "<a id=\"ancora4\"></a>\n",
    "## Desafio: Gerenciamento de Pedidos de Comida Online"
   ]
  },
  {
   "cell_type": "markdown",
   "id": "7d987f54",
   "metadata": {},
   "source": [
    "### Desafio\n",
    "Você foi contratado para desenvolver um sistema que armazena informações dos pedidos de comida online realizados por um cliente. O sistema deve permitir ao cliente inserir novos pedidos, escolher um cupom de desconto (10% ou 20%) e exibir o valor total de todos os pedidos realizados até o momento, com o desconto aplicado.\n",
    "\n",
    "### Entrada\n",
    "- A entrada é composta por:\n",
    "\n",
    "    - Uma linha com um número inteiro n representando a quantidade de pedidos que o usuário deseja inserir;\n",
    "    - n linhas, cada uma contendo uma string com o nome do pedido e um valor em ponto flutuante separados por espaço. O nome do pedido não contém espaços em branco;\n",
    "    - Uma linha contendo o cupom de desconto escolhido (10% ou 20%).\n",
    "\n",
    "### Saída\n",
    "- O programa deve exibir uma única linha contendo o valor total de todos os pedidos com o desconto aplicado, no seguinte formato:\n",
    "\n",
    "    - Valor total: XX.YY, onde \"XX.YY\" é a soma de todos os pedidos com desconto em formato de duas casas decimais após a vírgula.\n",
    "\n",
    "### Exemplos\n",
    "A tabela abaixo apresenta exemplos com alguns dados de entrada e suas respectivas saídas esperadas. Certifique-se de testar seu programa com esses exemplos e com outros casos possíveis."
   ]
  },
  {
   "cell_type": "markdown",
   "id": "c005b5bb",
   "metadata": {},
   "source": [
    "Exemplo de Entrada | Exemplo de Saída\n",
    ":-----------------:|:------------------:\n",
    "3                  |\n",
    "Pizza 29.90        |\n",
    "Hambúrguer 15.50   | Valor total: 47.16\n",
    "Refrigerante 7.00  | \n",
    "10%                |\n",
    "-----              | ---------------------------------\n",
    "2                  |\n",
    "Salada 12.00       | \n",
    "Suco 10.50         | Valor total: 18.00\n",
    "20%                | \n",
    "-----              | ---------------------------------\n",
    "4                  | \n",
    "X-Burger 19.99     |\n",
    "Salada 29.99       |\n",
    "Sushi 61.00        | Valor total: 96.78\n",
    "Pudim 10.00        |\n",
    "20%                |"
   ]
  },
  {
   "cell_type": "markdown",
   "id": "aa82ced0",
   "metadata": {},
   "source": [
    "### Código:"
   ]
  },
  {
   "cell_type": "code",
   "execution_count": 6,
   "id": "7901f82d",
   "metadata": {},
   "outputs": [
    {
     "name": "stdout",
     "output_type": "stream",
     "text": [
      "3\n",
      "Pizza 29.90\n",
      "Hambúrguer 15.50\n",
      "Refrigerante 7.00\n",
      "10%\n",
      "Valor total: 47.16\n"
     ]
    }
   ],
   "source": [
    "def main():\n",
    "    n = int(input())\n",
    " \n",
    "    total = 0\n",
    " \n",
    "    for i in range(1, n + 1):\n",
    "        pedido = input().split(\" \")\n",
    "        nome = pedido[0]\n",
    "        valor = float(pedido[1])\n",
    "        total += valor\n",
    " \n",
    " \n",
    "    cupom_desconto = input()\n",
    "  \n",
    "    if cupom_desconto == \"10%\":\n",
    "        total = total * 0.9\n",
    "    elif cupom_desconto == \"20%\":\n",
    "        total = total * 0.8\n",
    "    \n",
    "    print(f\"Valor total: {total:.2f}\")\n",
    " \n",
    " \n",
    "if __name__ == \"__main__\":\n",
    "    main()"
   ]
  },
  {
   "cell_type": "markdown",
   "id": "588bb906",
   "metadata": {},
   "source": [
    "[voltar](#ancora)"
   ]
  },
  {
   "cell_type": "markdown",
   "id": "6a978678",
   "metadata": {},
   "source": [
    "<a id=\"ancora5\"></a>\n",
    "## Desafio: Identificando Pedidos Veganos"
   ]
  },
  {
   "cell_type": "markdown",
   "id": "e8db8c3e",
   "metadata": {},
   "source": [
    "### Desafio\n",
    "O objetivo deste programa é ajudar a equipe do Restaurante Veggieworld a identificar rapidamente os pedidos veganos e não veganos e informar as calorias de cada prato definido pelo cliente. O programa deve solicitar ao usuário o número de pedidos que serão feitos e, em seguida, pedir informações sobre cada pedido, incluindo se o prato é vegano ou não (usando as opções \"s\" para sim e \"n\" para não) e a quantidade de calorias. Ao final, o programa deve exibir uma lista de todos os pedidos com suas informações correspondentes.\n",
    "\n",
    "### Entrada\n",
    "- Um inteiro n, que representa o número de pedidos que o usuário deseja fazer.\n",
    "- Para cada pedido, o usuário deve inserir:\n",
    "   - O nome do prato;\n",
    "   - A quantidade de calorias do prato;\n",
    "   - Se o prato é vegano ou não (usando as opções \"s\" para sim e \"n\" para não).\n",
    "\n",
    "### Saída\n",
    "- O programa deve exibir uma lista de todos os pedidos com suas informações correspondentes, incluindo o nome do prato, se é vegano ou não, e a quantidade de calorias, no seguinte formato:\n",
    "\n",
    "    - Pedido X: NOME_DO_PRATO (EH_VEGANO?) - YYY calorias, onde \"X\" é o número do pedido, \"NOME_DO_PRATO\" é o nome do prato, \"EH_VEGADO?\" indica se o prato é vegano (escrever \"Vegano\" ou \"Nao-vegano\"), e \"YYY\" é a quantidade de calorias do prato.\n",
    "\n",
    "### Exemplos\n",
    "A tabela abaixo apresenta exemplos com alguns dados de entrada e suas respectivas saídas esperadas. Certifique-se de testar seu programa com esses exemplos e com outros casos possíveis.\n",
    "\n"
   ]
  },
  {
   "cell_type": "markdown",
   "id": "4d452b82",
   "metadata": {},
   "source": [
    "Exemplo de Entrada | Exemplo de Saída\n",
    ":-----------------:|:------------------:\n",
    "1                      |\n",
    "Hamburguer de lentilha |\n",
    "300                    | Pedido 1: Hamburguer de lentilha (Vegano) - 300 calorias\n",
    "s                      | \n",
    "-----                  | ---------------------------------\n",
    "2                      | \n",
    "Pizza                  |\n",
    "450                    | Pedido 1: Pizza (Nao-vegano) - 450 calorias\n",
    "n                      |\n",
    "Sushi                  | Pedido 2: Sushi (Nao-vegano) - 200 calorias\n",
    "200                    |\n",
    "n                      |\n"
   ]
  },
  {
   "cell_type": "markdown",
   "id": "8a97e96d",
   "metadata": {},
   "source": [
    "### Código:"
   ]
  },
  {
   "cell_type": "code",
   "execution_count": 7,
   "id": "36b65be9",
   "metadata": {},
   "outputs": [
    {
     "name": "stdout",
     "output_type": "stream",
     "text": [
      "2\n",
      "Pizza\n",
      "450\n",
      "n\n",
      "Pedido 1: Pizza (Nao-vegano) - 450 calorias\n",
      "Sushi\n",
      "200\n",
      "n\n",
      "Pedido 2: Sushi (Nao-vegano) - 200 calorias\n"
     ]
    }
   ],
   "source": [
    "numPedidos = int(input())\n",
    "\n",
    "for i in range(1, numPedidos + 1):\n",
    "    prato = input()\n",
    "    calorias = int(input())\n",
    "    ehVegano = False\n",
    "    \n",
    "    opcao_vegano = input()\n",
    "    if opcao_vegano == \"s\":\n",
    "        ehVegano = True\n",
    "\n",
    "    if ehVegano:\n",
    "        tipo_vegano = \"Vegano\"\n",
    "    else:\n",
    "        tipo_vegano = \"Nao-vegano\"\n",
    "\n",
    "    print(f\"Pedido {i}: {prato} ({tipo_vegano}) - {calorias} calorias\")\n"
   ]
  },
  {
   "cell_type": "markdown",
   "id": "24fc8888",
   "metadata": {},
   "source": [
    "[voltar](#ancora)"
   ]
  },
  {
   "cell_type": "code",
   "execution_count": null,
   "id": "e1895ee8",
   "metadata": {},
   "outputs": [],
   "source": []
  }
 ],
 "metadata": {
  "kernelspec": {
   "display_name": "Python 3 (ipykernel)",
   "language": "python",
   "name": "python3"
  },
  "language_info": {
   "codemirror_mode": {
    "name": "ipython",
    "version": 3
   },
   "file_extension": ".py",
   "mimetype": "text/x-python",
   "name": "python",
   "nbconvert_exporter": "python",
   "pygments_lexer": "ipython3",
   "version": "3.9.12"
  }
 },
 "nbformat": 4,
 "nbformat_minor": 5
}
