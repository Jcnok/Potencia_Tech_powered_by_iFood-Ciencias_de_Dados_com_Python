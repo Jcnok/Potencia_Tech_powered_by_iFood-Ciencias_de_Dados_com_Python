{
 "cells": [
  {
   "cell_type": "markdown",
   "id": "d25b160f",
   "metadata": {
    "heading_collapsed": true
   },
   "source": [
    "# Desafio - Criando um sistema bancário"
   ]
  },
  {
   "cell_type": "markdown",
   "id": "e28bfad9",
   "metadata": {
    "hidden": true
   },
   "source": [
    "<img src=\"img/personal_bank.jpg\" referrerpolicy=\"same-origin\" style=\"display: block; object-fit: cover; border-radius: 0px; width: 100%; height: 30vh; opacity: 1; object-position: center 50%;\">"
   ]
  },
  {
   "cell_type": "markdown",
   "id": "182fb71b",
   "metadata": {
    "heading_collapsed": true,
    "hidden": true
   },
   "source": [
    "## Objetivo Geral"
   ]
  },
  {
   "cell_type": "markdown",
   "id": "a68f94ac",
   "metadata": {
    "hidden": true
   },
   "source": [
    "**Criar um sistema bancário com as operações: sacar, depositar\n",
    "e visualizar extrato.**"
   ]
  },
  {
   "cell_type": "markdown",
   "id": "4ee851d4",
   "metadata": {
    "heading_collapsed": true,
    "hidden": true
   },
   "source": [
    "## Desafio:"
   ]
  },
  {
   "cell_type": "markdown",
   "id": "c38edc68",
   "metadata": {
    "hidden": true
   },
   "source": [
    "**Fomos contratados por um grande banco para desenvolver o\n",
    "seu novo sistema. Esse banco deseja modernizar suas\n",
    "operações e para isso escolheu a linguagem Python. Para a\n",
    "primeira versão do sistema devemos implementar apenas 3\n",
    "operações: depósito, saque e extrato.**"
   ]
  },
  {
   "cell_type": "markdown",
   "id": "b7c16e27",
   "metadata": {
    "hidden": true
   },
   "source": [
    "### Operação de depósito:"
   ]
  },
  {
   "cell_type": "markdown",
   "id": "6bd9c042",
   "metadata": {
    "hidden": true
   },
   "source": [
    "* **Deve ser possível depositar valores positivos para a minha\n",
    "conta bancária. A v1 do projeto trabalha apenas com 1 usuário,\n",
    "dessa forma não precisamos nos preocupar em identificar qual\n",
    "é o número da agência e conta bancária. Todos os depósitos\n",
    "devem ser armazenados em uma variável e exibidos na\n",
    "operação de extrato.**"
   ]
  },
  {
   "cell_type": "markdown",
   "id": "9768cd20",
   "metadata": {
    "hidden": true
   },
   "source": [
    "### Operação de saque:"
   ]
  },
  {
   "cell_type": "markdown",
   "id": "1974a5a3",
   "metadata": {
    "hidden": true
   },
   "source": [
    "* **O sistema deve permitir realizar 3 saques diários com limite máximo de R$ 500,00 por saque. Caso o usuário não tenha\n",
    "saldo em conta, o sistema deve exibir uma mensagem\n",
    "informando que não será possível sacar o dinheiro por falta de\n",
    "saldo. Todos os saques devem ser armazenados em uma\n",
    "variável e exibidos na operação de extrato.**"
   ]
  },
  {
   "cell_type": "markdown",
   "id": "7421aa41",
   "metadata": {
    "hidden": true
   },
   "source": [
    "### Operação de extrato:"
   ]
  },
  {
   "cell_type": "markdown",
   "id": "68d45f11",
   "metadata": {
    "hidden": true
   },
   "source": [
    "* **Essa operação deve listar todos os depósitos e saques\n",
    "realizados na conta. No fim da listagem deve ser exibido o\n",
    "saldo atual da conta. Se o extrato estiver em branco, exibir a\n",
    "mensagem: Não foram realizadas movimentações.**\n",
    "* **Os valores devem ser exibidos utilizando o formato R$ xxx.xx.**\n"
   ]
  },
  {
   "cell_type": "raw",
   "id": "f638267e",
   "metadata": {
    "hidden": true
   },
   "source": [
    "exemplo:\n",
    "1500.45 = R$ 1500.45"
   ]
  },
  {
   "cell_type": "markdown",
   "id": "cd9a1703",
   "metadata": {
    "heading_collapsed": true,
    "hidden": true
   },
   "source": [
    "## Resolução #1- Código Baseado em funções"
   ]
  },
  {
   "cell_type": "markdown",
   "id": "739ec2ce",
   "metadata": {
    "hidden": true
   },
   "source": [
    "### Documentação:"
   ]
  },
  {
   "cell_type": "markdown",
   "id": "bc387d19",
   "metadata": {
    "hidden": true
   },
   "source": [
    "**Este código implementa um sistema bancário básico em Python. Aqui estão as principais funções e seus respectivos comportamentos:**\n",
    "\n",
    "1. **deposito(valor):**\n",
    "    * Realiza um depósito na conta bancária. O parâmetro valor representa o valor a ser depositado. Se o valor for maior que zero, ele é adicionado ao saldo da conta, registrado na lista de depósitos e uma mensagem de sucesso é exibida. Caso contrário, é exibida uma mensagem informando que o valor do depósito deve ser positivo.\n",
    "\n",
    "2. **saque(valor):**\n",
    "    * Realiza um saque na conta bancária. O parâmetro valor representa o valor a ser sacado. Antes de realizar o saque, é verificado se o valor é maior que zero e se o limite máximo de saques diários (3 saques por dia) ainda não foi atingido. Em seguida, é verificado se o saldo é suficiente para realizar o saque. Se todas as condições forem atendidas, o valor é subtraído do saldo, registrado na lista de saques e atualizado o dicionário de saques diários. Caso contrário, são exibidas mensagens apropriadas informando a impossibilidade de realizar o saque.\n",
    "\n",
    "3. **extrato():**\n",
    "    * Exibe o extrato da conta bancária. Se não foram realizadas movimentações (nem depósitos nem saques), é exibida a mensagem \"Não foram realizadas movimentações\". Caso contrário, são exibidos os valores dos depósitos e saques realizados, seguidos pelo saldo atual.\n",
    "\n",
    "4. **exibir_menu():**\n",
    "    * Função auxiliar que exibe um menu de opções ao usuário. O usuário pode escolher entre depositar, sacar, exibir o extrato ou sair do programa. A opção escolhida é retornada como um valor de texto em minúsculo.\n",
    "\n",
    "5. **main():**\n",
    "    * Função principal que inicia a execução do programa. Um loop infinito é iniciado, onde o menu é exibido e a opção escolhida pelo usuário é processada. Dentro do loop, as funções deposito(), saque() e extrato() são chamadas de acordo com a opção selecionada pelo usuário. O loop só é interrompido quando o usuário escolhe a opção \"q\" para sair.\n",
    "    * O código utiliza variáveis globais para manter o saldo da conta, as listas de depósitos e saques, e o dicionário de saques diários. Essas variáveis são acessadas e modificadas pelas funções do código.\n",
    "    * O código utiliza a biblioteca datetime para obter a data atual e controlar o número de saques diários. As datas são usadas como chaves do dicionário saques_diarios, que armazena o número de saques realizados em cada dia.\n",
    "    * O código segue boas práticas de documentação, com docstrings explicando o propósito e os parâmetros das funções. Além disso, comentários são utilizados em alguns trechos para fornecer informações adicionais.\n",
    "    * A função main() é responsável por iniciar a execução do programa. Dentro dessa função, o loop principal é implementado e as opções do menu são processadas.\n",
    "    * Para utilizar o programa, o usuário deve executar o código. Em seguida, é exibido um menu com as opções disponíveis. O usuário pode escolher uma opção digitando a letra correspondente e pressionando Enter. O programa então solicita os valores necessários para cada operação e exibe as mensagens de feedback adequadas.\n",
    "    * O código permite ao usuário interagir com a conta bancária, realizando depósitos, saques, exibindo o extrato e finalizando a execução do programa."
   ]
  },
  {
   "cell_type": "markdown",
   "id": "7f21efa6",
   "metadata": {
    "heading_collapsed": true,
    "hidden": true
   },
   "source": [
    "### Código python:"
   ]
  },
  {
   "cell_type": "code",
   "execution_count": 56,
   "id": "a3e5aaa0",
   "metadata": {
    "hidden": true
   },
   "outputs": [
    {
     "name": "stdout",
     "output_type": "stream",
     "text": [
      "\n",
      "    [d] Depositar\n",
      "    [s] Sacar\n",
      "    [e] Extrato\n",
      "    [q] Sair\n",
      "\n",
      "    => d\n",
      "Digite o valor a ser depositado: 100\n",
      "Depósito de R$ 100.00 realizado com sucesso.\n",
      "\n",
      "    [d] Depositar\n",
      "    [s] Sacar\n",
      "    [e] Extrato\n",
      "    [q] Sair\n",
      "\n",
      "    => s\n",
      "Digite o valor a ser sacado: 200\n",
      "Saldo insuficiente para realizar o saque.\n",
      "\n",
      "    [d] Depositar\n",
      "    [s] Sacar\n",
      "    [e] Extrato\n",
      "    [q] Sair\n",
      "\n",
      "    => s\n",
      "Digite o valor a ser sacado: 20\n",
      "Saque de R$ 20.00 realizado com sucesso.\n",
      "\n",
      "    [d] Depositar\n",
      "    [s] Sacar\n",
      "    [e] Extrato\n",
      "    [q] Sair\n",
      "\n",
      "    => s\n",
      "Digite o valor a ser sacado: 10\n",
      "Saque de R$ 10.00 realizado com sucesso.\n",
      "\n",
      "    [d] Depositar\n",
      "    [s] Sacar\n",
      "    [e] Extrato\n",
      "    [q] Sair\n",
      "\n",
      "    => e\n",
      "Extrato:\n",
      "Depósito: R$ 100.00\n",
      "Saque: R$ 20.00\n",
      "Saque: R$ 10.00\n",
      "Saldo atual: R$ 70.00\n",
      "\n",
      "    [d] Depositar\n",
      "    [s] Sacar\n",
      "    [e] Extrato\n",
      "    [q] Sair\n",
      "\n",
      "    => q\n",
      "Saindo...\n"
     ]
    }
   ],
   "source": [
    "import datetime\n",
    "\n",
    "saldo = 0\n",
    "depositos = []\n",
    "saques = []\n",
    "saques_diarios = {}\n",
    "\n",
    "def deposito(valor):\n",
    "    \"\"\"\n",
    "    Realiza um depósito na conta bancária.\n",
    "    \n",
    "    Args:\n",
    "        valor (float): Valor a ser depositado.\n",
    "    \"\"\"\n",
    "    global saldo\n",
    "    if valor > 0:\n",
    "        saldo += valor\n",
    "        depositos.append(valor)\n",
    "        print(f\"Depósito de R$ {valor:.2f} realizado com sucesso.\")\n",
    "    else:\n",
    "        print(\"O valor do depósito deve ser positivo.\")\n",
    "\n",
    "def saque(valor):\n",
    "    \"\"\"\n",
    "    Realiza um saque na conta bancária.\n",
    "    \n",
    "    Args:\n",
    "        valor (float): Valor a ser sacado.\n",
    "    \"\"\"\n",
    "    global saldo\n",
    "    if valor > 0:\n",
    "        hoje = datetime.date.today()\n",
    "        \n",
    "        # Verifica se já foram realizados 3 saques hoje\n",
    "        if hoje in saques_diarios and saques_diarios[hoje] >= 3:\n",
    "            print(\"Limite máximo de saques diários atingido.\")\n",
    "            return\n",
    "        \n",
    "        # Verifica se o saldo é suficiente para realizar o saque\n",
    "        if saldo >= valor:\n",
    "            saldo -= valor\n",
    "            saques.append(valor)\n",
    "            \n",
    "            # Atualiza o dicionário de saques diários\n",
    "            if hoje in saques_diarios:\n",
    "                saques_diarios[hoje] += 1\n",
    "            else:\n",
    "                saques_diarios[hoje] = 1\n",
    "            \n",
    "            print(f\"Saque de R$ {valor:.2f} realizado com sucesso.\")\n",
    "        else:\n",
    "            print(\"Saldo insuficiente para realizar o saque.\")\n",
    "    else:\n",
    "        print(\"O valor do saque deve ser positivo.\")\n",
    "\n",
    "def extrato():\n",
    "    \"\"\"Exibe o extrato da conta bancária.\"\"\"\n",
    "    global saldo\n",
    "    if not depositos and not saques:\n",
    "        print(\"Não foram realizadas movimentações.\")\n",
    "    else:\n",
    "        print(\"Extrato:\")\n",
    "        for deposito in depositos:\n",
    "            print(f\"Depósito: R$ {deposito:.2f}\")\n",
    "        for saque in saques:\n",
    "            print(f\"Saque: R$ {saque:.2f}\")\n",
    "        print(f\"Saldo atual: R$ {saldo:.2f}\")\n",
    "        \n",
    "# Função para exibir o menu\n",
    "def exibir_menu():\n",
    "    menu = \"\"\"\n",
    "    [d] Depositar\n",
    "    [s] Sacar\n",
    "    [e] Extrato\n",
    "    [q] Sair\n",
    "\n",
    "    => \"\"\"\n",
    "    return input(menu).lower().strip()\n",
    "\n",
    "# Função principal\n",
    "def main():\n",
    "    while True:\n",
    "        opcao = exibir_menu()\n",
    "\n",
    "        if opcao == \"d\":\n",
    "            valor = float(input(\"Digite o valor a ser depositado: \"))\n",
    "            deposito(valor)\n",
    "        elif opcao == \"s\":\n",
    "            valor = float(input(\"Digite o valor a ser sacado: \"))\n",
    "            saque(valor)\n",
    "        elif opcao == \"e\":\n",
    "            extrato()\n",
    "        elif opcao == \"q\":\n",
    "            print(\"Saindo...\")\n",
    "            break\n",
    "        else:\n",
    "            print(\"Opção inválida. Tente novamente.\")\n",
    "\n",
    "if __name__ == \"__main__\":\n",
    "    main()\n"
   ]
  },
  {
   "cell_type": "markdown",
   "id": "a7044e8c",
   "metadata": {
    "heading_collapsed": true,
    "hidden": true
   },
   "source": [
    "## Resolução #2 - Código Baseado em POO"
   ]
  },
  {
   "cell_type": "markdown",
   "id": "f139e20a",
   "metadata": {
    "heading_collapsed": true,
    "hidden": true
   },
   "source": [
    "### Documentação:"
   ]
  },
  {
   "cell_type": "markdown",
   "id": "08a5eccb",
   "metadata": {
    "hidden": true
   },
   "source": [
    "**Este código implementa um sistema bancário básico em Python usando a classe Banco. Aqui estão as principais informações sobre a classe e suas funções:**\n",
    "\n",
    "1. **Banco:**\n",
    "    **Classe que representa um banco e suas operações básicas.**\n",
    "\n",
    "    * **Atributos:**\n",
    "        * **saldo**(float): Saldo atual da conta bancária.\n",
    "        * **depositos**(list): Lista de depósitos realizados na conta.\n",
    "        * **saques**(list): Lista de saques realizados na conta.\n",
    "        * **saques_diarios**(dict): Dicionário com o número de saques diários realizados.\n",
    "        \n",
    "    * **Métodos:**\n",
    "        * **deposito(valor)**:Realiza um depósito na conta bancária.\n",
    "        * **saque(valor)**:Realiza um saque na conta bancária.\n",
    "        * **extrato()**:Exibe o extrato da conta bancária.\n",
    "\n",
    "2. **deposito(valor):**\n",
    "    * **parâmetro: valor(float):** Valor a ser depositado.\n",
    "    \n",
    "    * Se o valor fornecido for maior que zero, ele é adicionado ao saldo da conta, registrado na lista de depósitos e uma mensagem de sucesso é exibida. Caso contrário, é exibida uma mensagem informando que o valor do depósito deve ser positivo.\n",
    "    \n",
    "3. **saque(valor):**\n",
    "    * **parâmetro: valor(float)** - Valor a ser sacado.\n",
    "    * Antes de realizar o saque, é verificado se a quantidade de saques diários não ultrapassou o limite máximo de 3 saques por dia. Em seguida, é verificado se o valor fornecido é maior que zero e se o saldo da conta é suficiente para realizar o saque. Se todas as condições forem atendidas, o valor é subtraído do saldo, registrado na lista de saques e atualizado o dicionário de saques diários. Caso contrário, são exibidas mensagens apropriadas informando a impossibilidade de realizar o saque.\n",
    "\n",
    "4. **extrato():**\n",
    "    * **Exibe o extrato da conta bancária.**\n",
    "    * Se não foram realizadas movimentações (nem depósitos nem saques), é exibida a mensagem \"Não foram realizadas movimentações\". Caso contrário, são exibidos os valores dos depósitos e saques realizados, seguidos pelo saldo atual da conta.\n",
    "    \n",
    "5. **exibir_menu():**\n",
    "    * **Função que exibe o menu de opções para o usuário.**\n",
    "    * Retorno:\n",
    "        * **str:** Opção selecionada pelo usuário.\n",
    "        * A função exibe um menu com opções de depósito, saque, extrato e sair. O usuário deve escolher uma opção digitando a letra correspondente e pressionando Enter. A opção selecionada é retornada como uma string em minúsculo.\n",
    "\n",
    "6. **main():**\n",
    "    * **Função principal que inicia a execução do programa.**\n",
    "    * A função cria uma instância da classe Banco e entra em um loop infinito. Dentro do loop, exibe o menu, processa a opção selecionada pelo usuário e chama os métodos apropriados da instância de Banco. O loop é interrompido quando o usuário seleciona a opção de sair.\n",
    "    \n",
    "**O código segue boas práticas de documentação, com docstrings explicando o propósito, os parâmetros e os retornos das funções. Também é utilizado um bloco if __name__ == \"__main__\" para permitir a execução do programa quando o arquivo é executado diretamente.**\n",
    "\n",
    "**Para utilizar o programa, o usuário deve executar o código. Será exibido um menu com opções, onde o usuário pode escolher entre depositar, sacar, exibir o extrato ou sair do programa. O programa solicitará os valores necessários para cada operação e exibirá as mensagens de feedback apropriadas. O usuário pode interagir com a conta bancária enquanto o programa estiver em execução.**"
   ]
  },
  {
   "cell_type": "markdown",
   "id": "b3a8a2cf",
   "metadata": {
    "hidden": true
   },
   "source": [
    "### Código Python:"
   ]
  },
  {
   "cell_type": "code",
   "execution_count": 57,
   "id": "9ce0a074",
   "metadata": {
    "hidden": true
   },
   "outputs": [
    {
     "name": "stdout",
     "output_type": "stream",
     "text": [
      "\n",
      "    [d] Depositar\n",
      "    [s] Sacar\n",
      "    [e] Extrato\n",
      "    [q] Sair\n",
      "\n",
      "    => d\n",
      "Digite o valor a ser depositado: 5000\n",
      "Depósito de R$ 5000.00 realizado com sucesso.\n",
      "\n",
      "    [d] Depositar\n",
      "    [s] Sacar\n",
      "    [e] Extrato\n",
      "    [q] Sair\n",
      "\n",
      "    => s\n",
      "Digite o valor a ser sacado: 1000\n",
      "Saque de R$ 1000.00 realizado com sucesso.\n",
      "\n",
      "    [d] Depositar\n",
      "    [s] Sacar\n",
      "    [e] Extrato\n",
      "    [q] Sair\n",
      "\n",
      "    => s\n",
      "Digite o valor a ser sacado: 300\n",
      "Saque de R$ 300.00 realizado com sucesso.\n",
      "\n",
      "    [d] Depositar\n",
      "    [s] Sacar\n",
      "    [e] Extrato\n",
      "    [q] Sair\n",
      "\n",
      "    => s\n",
      "Digite o valor a ser sacado: 2000\n",
      "Saque de R$ 2000.00 realizado com sucesso.\n",
      "\n",
      "    [d] Depositar\n",
      "    [s] Sacar\n",
      "    [e] Extrato\n",
      "    [q] Sair\n",
      "\n",
      "    => s\n",
      "Digite o valor a ser sacado: 100\n",
      "Limite máximo de saques diários atingido.\n",
      "\n",
      "    [d] Depositar\n",
      "    [s] Sacar\n",
      "    [e] Extrato\n",
      "    [q] Sair\n",
      "\n",
      "    => e\n",
      "Extrato:\n",
      "Depósito: R$ 5000.00\n",
      "Saque: R$ 1000.00\n",
      "Saque: R$ 300.00\n",
      "Saque: R$ 2000.00\n",
      "Saldo atual: R$ 1700.00\n",
      "\n",
      "    [d] Depositar\n",
      "    [s] Sacar\n",
      "    [e] Extrato\n",
      "    [q] Sair\n",
      "\n",
      "    => q\n",
      "Saindo...\n"
     ]
    }
   ],
   "source": [
    "import datetime\n",
    "\n",
    "class Banco:\n",
    "    def __init__(self):\n",
    "        self.saldo = 0\n",
    "        self.depositos = []\n",
    "        self.saques = []\n",
    "        self.saques_diarios = {}\n",
    "\n",
    "    def deposito(self, valor):\n",
    "        if valor > 0:\n",
    "            self.saldo += valor\n",
    "            self.depositos.append(valor)\n",
    "            print(f\"Depósito de R$ {valor:.2f} realizado com sucesso.\")\n",
    "        else:\n",
    "            print(\"O valor do depósito deve ser positivo.\")\n",
    "\n",
    "    def saque(self, valor):\n",
    "        hoje = datetime.date.today()\n",
    "\n",
    "        if hoje in self.saques_diarios and self.saques_diarios[hoje] >= 3:\n",
    "            print(\"Limite máximo de saques diários atingido.\")\n",
    "            return\n",
    "\n",
    "        if valor > 0:\n",
    "            if self.saldo >= valor:\n",
    "                self.saldo -= valor\n",
    "                self.saques.append(valor)\n",
    "                if hoje in self.saques_diarios:\n",
    "                    self.saques_diarios[hoje] += 1\n",
    "                else:\n",
    "                    self.saques_diarios[hoje] = 1\n",
    "                print(f\"Saque de R$ {valor:.2f} realizado com sucesso.\")\n",
    "            else:\n",
    "                print(\"Saldo insuficiente para realizar o saque.\")\n",
    "        else:\n",
    "            print(\"O valor do saque deve ser positivo.\")\n",
    "\n",
    "    def extrato(self):\n",
    "        if not self.depositos and not self.saques:\n",
    "            print(\"Não foram realizadas movimentações.\")\n",
    "        else:\n",
    "            print(\"Extrato:\")\n",
    "            for deposito in self.depositos:\n",
    "                print(f\"Depósito: R$ {deposito:.2f}\")\n",
    "            for saque in self.saques:\n",
    "                print(f\"Saque: R$ {saque:.2f}\")\n",
    "            print(f\"Saldo atual: R$ {self.saldo:.2f}\")\n",
    "\n",
    "# Função para exibir o menu\n",
    "def exibir_menu():\n",
    "    menu = \"\"\"\n",
    "    [d] Depositar\n",
    "    [s] Sacar\n",
    "    [e] Extrato\n",
    "    [q] Sair\n",
    "\n",
    "    => \"\"\"\n",
    "    return input(menu).lower().strip()\n",
    "\n",
    "# Função principal\n",
    "def main():\n",
    "    banco = Banco()\n",
    "\n",
    "    while True:\n",
    "        opcao = exibir_menu()\n",
    "\n",
    "        if opcao == \"d\":\n",
    "            valor = float(input(\"Digite o valor a ser depositado: \"))\n",
    "            banco.deposito(valor)\n",
    "        elif opcao == \"s\":\n",
    "            valor = float(input(\"Digite o valor a ser sacado: \"))\n",
    "            banco.saque(valor)\n",
    "        elif opcao == \"e\":\n",
    "            banco.extrato()\n",
    "        elif opcao == \"q\":\n",
    "            print(\"Saindo...\")\n",
    "            break\n",
    "        else:\n",
    "            print(\"Opção inválida. Tente novamente.\")\n",
    "\n",
    "if __name__ == \"__main__\":\n",
    "    main()"
   ]
  },
  {
   "cell_type": "markdown",
   "id": "352e9e7a",
   "metadata": {
    "heading_collapsed": true,
    "hidden": true
   },
   "source": [
    "## Formas de reutilizar o código."
   ]
  },
  {
   "cell_type": "markdown",
   "id": "23ceae3b",
   "metadata": {
    "hidden": true
   },
   "source": [
    "**Com a POO, é mais fácil reutilizar o código, já que as classes e objetos podem ser utilizados em diferentes partes do programa. As classes podem ser estendidas por meio da herança, permitindo criar novas classes com base em outras já existentes, herdando seus atributos e comportamentos. Isso economiza tempo e esforço na implementação de funcionalidades semelhantes em diferentes partes do código.**"
   ]
  },
  {
   "cell_type": "markdown",
   "id": "302f45c5",
   "metadata": {
    "hidden": true
   },
   "source": [
    "### Salvei o código  abaixo como banco_jc.py na pasta src."
   ]
  },
  {
   "cell_type": "code",
   "execution_count": 6,
   "id": "58c3ad1a",
   "metadata": {
    "hidden": true
   },
   "outputs": [],
   "source": [
    "import datetime\n",
    "\n",
    "class Banco:\n",
    "    def __init__(self):\n",
    "        self.saldo = 0\n",
    "        self.depositos = []\n",
    "        self.saques = []\n",
    "        self.saques_diarios = {}  # Dicionário para armazenar os saques por dia\n",
    "\n",
    "    def deposito(self, valor):\n",
    "        if valor > 0:\n",
    "            self.saldo += valor\n",
    "            self.depositos.append(valor)\n",
    "            print(f\"Depósito de R$ {valor:.2f} realizado com sucesso.\")\n",
    "        else:\n",
    "            print(\"O valor do depósito deve ser positivo.\")\n",
    "\n",
    "    def saque(self, valor):\n",
    "        if valor > 0:\n",
    "            hoje = datetime.date.today()  # Obtemos a data atual\n",
    "\n",
    "            # Verificamos se já foram realizados 3 saques hoje\n",
    "            if hoje in self.saques_diarios and self.saques_diarios[hoje] >= 3:\n",
    "                print(\"Limite máximo de saques diários atingido.\")\n",
    "                return\n",
    "\n",
    "            # Verificamos se o saldo é suficiente para realizar o saque\n",
    "            if self.saldo >= valor:\n",
    "                self.saldo -= valor\n",
    "                self.saques.append(valor)\n",
    "\n",
    "                # Verificamos se a data já está registrada nos saques diários\n",
    "                if hoje in self.saques_diarios:\n",
    "                    self.saques_diarios[hoje] += 1\n",
    "                else:\n",
    "                    self.saques_diarios[hoje] = 1\n",
    "\n",
    "                print(f\"Saque de R$ {valor:.2f} realizado com sucesso.\")\n",
    "            else:\n",
    "                print(\"Saldo insuficiente para realizar o saque.\")\n",
    "        else:\n",
    "            print(\"O valor do saque deve ser positivo.\")\n",
    "\n",
    "    def extrato(self):\n",
    "        if not self.depositos and not self.saques:\n",
    "            print(\"Não foram realizadas movimentações.\")\n",
    "        else:\n",
    "            print(\"Extrato:\")\n",
    "            for deposito in self.depositos:\n",
    "                print(f\"Depósito: R$ {deposito:.2f}\")\n",
    "            for saque in self.saques:\n",
    "                print(f\"Saque: R$ {saque:.2f}\")\n",
    "            print(f\"Saldo atual: R$ {self.saldo:.2f}\")\n"
   ]
  },
  {
   "cell_type": "markdown",
   "id": "ea8dfa5f",
   "metadata": {
    "hidden": true
   },
   "source": [
    "### Salvei o código  abaixo como desafio.py na pasta src."
   ]
  },
  {
   "cell_type": "code",
   "execution_count": null,
   "id": "d8e7158e",
   "metadata": {
    "hidden": true
   },
   "outputs": [],
   "source": [
    "from banco_jc import Banco\n",
    "# Função para exibir o menu\n",
    "def exibir_menu():\n",
    "    menu = \"\"\"\n",
    "    [d] Depositar\n",
    "    [s] Sacar\n",
    "    [e] Extrato\n",
    "    [q] Sair\n",
    "\n",
    "    => \"\"\"\n",
    "    return input(menu).lower().strip()\n",
    "\n",
    "# Função principal\n",
    "def main():\n",
    "    banco = Banco()\n",
    "\n",
    "    while True:\n",
    "        opcao = exibir_menu()\n",
    "\n",
    "        if opcao == \"d\":\n",
    "            valor = float(input(\"Digite o valor a ser depositado: \"))\n",
    "            banco.deposito(valor)\n",
    "        elif opcao == \"s\":\n",
    "            valor = float(input(\"Digite o valor a ser sacado: \"))\n",
    "            banco.saque(valor)\n",
    "        elif opcao == \"e\":\n",
    "            banco.extrato()\n",
    "        elif opcao == \"q\":\n",
    "            print(\"Saindo...\")\n",
    "            break\n",
    "        else:\n",
    "            print(\"Opção inválida. Tente novamente.\")\n",
    "\n",
    "if __name__ == \"__main__\":\n",
    "    main()"
   ]
  },
  {
   "cell_type": "markdown",
   "id": "d9514f73",
   "metadata": {
    "hidden": true
   },
   "source": [
    "**observe que assim podemo importar facilmente o arquivo banco_jc.py como um lib e reutilizá-lo em outros projetos**."
   ]
  },
  {
   "cell_type": "markdown",
   "id": "c944ccdd",
   "metadata": {
    "hidden": true
   },
   "source": [
    "* **Agora vamos importar o arquivo como uma biblioteca e fazer alguns testes**"
   ]
  },
  {
   "cell_type": "code",
   "execution_count": 41,
   "id": "bb0c557a",
   "metadata": {
    "hidden": true
   },
   "outputs": [],
   "source": [
    "import os"
   ]
  },
  {
   "cell_type": "code",
   "execution_count": 46,
   "id": "26e31ad5",
   "metadata": {
    "hidden": true
   },
   "outputs": [
    {
     "name": "stdout",
     "output_type": "stream",
     "text": [
      "Diretório atual: E:\\meugithub\\Potencia_Tech_powered_by_iFood-Ciencias_de_Dados_com_Python\\DP2\n"
     ]
    }
   ],
   "source": [
    "# Diretório atual\n",
    "print(\"Diretório atual:\", os.getcwd())"
   ]
  },
  {
   "cell_type": "code",
   "execution_count": 47,
   "id": "df5ef526",
   "metadata": {
    "hidden": true
   },
   "outputs": [],
   "source": [
    "# Mudar para um diretório específico\n",
    "novo_diretorio = \"\\meugithub\\Potencia_Tech_powered_by_iFood-Ciencias_de_Dados_com_Python\\DP2\\src\"\n",
    "os.chdir(novo_diretorio)"
   ]
  },
  {
   "cell_type": "code",
   "execution_count": 48,
   "id": "b84a1db7",
   "metadata": {
    "hidden": true
   },
   "outputs": [
    {
     "name": "stdout",
     "output_type": "stream",
     "text": [
      "Diretório atual: E:\\meugithub\\Potencia_Tech_powered_by_iFood-Ciencias_de_Dados_com_Python\\DP2\\src\n"
     ]
    }
   ],
   "source": [
    "# Diretório atual agora é a pasta src\n",
    "print(\"Diretório atual:\", os.getcwd())"
   ]
  },
  {
   "cell_type": "code",
   "execution_count": 53,
   "id": "852cc381",
   "metadata": {
    "hidden": true
   },
   "outputs": [],
   "source": [
    "from banco_jc import Banco"
   ]
  },
  {
   "cell_type": "code",
   "execution_count": 64,
   "id": "0c16990b",
   "metadata": {
    "hidden": true
   },
   "outputs": [
    {
     "name": "stdout",
     "output_type": "stream",
     "text": [
      "Depósito de R$ 1000.50 realizado com sucesso.\n",
      "Saque de R$ 500.25 realizado com sucesso.\n",
      "Saque de R$ 200.00 realizado com sucesso.\n",
      "Depósito de R$ 750.75 realizado com sucesso.\n",
      "Saque de R$ 300.00 realizado com sucesso.\n",
      "Depósito de R$ 1500.00 realizado com sucesso.\n",
      "Extrato:\n",
      "Depósito: R$ 1000.50\n",
      "Depósito: R$ 750.75\n",
      "Depósito: R$ 1500.00\n",
      "Saque: R$ 500.25\n",
      "Saque: R$ 200.00\n",
      "Saque: R$ 300.00\n",
      "Saldo atual: R$ 2251.00\n"
     ]
    }
   ],
   "source": [
    "# Exemplo de uso:\n",
    "banco_jc = Banco()\n",
    "\n",
    "banco_jc.deposito(1000.50)\n",
    "banco_jc.saque(500.25)\n",
    "banco_jc.saque(200)\n",
    "banco_jc.deposito(750.75)\n",
    "banco_jc.saque(300)\n",
    "banco_jc.deposito(1500)\n",
    "banco_jc.extrato()\n"
   ]
  },
  {
   "cell_type": "markdown",
   "id": "093fd200",
   "metadata": {
    "hidden": true
   },
   "source": [
    "**Veja com uma simples importação conseguimos instanciar a classe banco**."
   ]
  },
  {
   "cell_type": "markdown",
   "id": "953cf848",
   "metadata": {
    "hidden": true
   },
   "source": [
    "* **Implementando um menu:**"
   ]
  },
  {
   "cell_type": "code",
   "execution_count": 68,
   "id": "e29aad30",
   "metadata": {
    "hidden": true
   },
   "outputs": [],
   "source": [
    "from banco_jc import Banco\n",
    "# Função para exibir o menu\n",
    "def exibir_menu():\n",
    "    menu = \"\"\"\n",
    "    [d] Depositar\n",
    "    [s] Sacar\n",
    "    [e] Extrato\n",
    "    [q] Sair\n",
    "\n",
    "    => \"\"\"\n",
    "    return input(menu).lower().strip()\n",
    "\n",
    "# Função principal\n",
    "def main():\n",
    "    banco = Banco()\n",
    "\n",
    "    while True:\n",
    "        opcao = exibir_menu()\n",
    "\n",
    "        if opcao == \"d\":\n",
    "            valor = float(input(\"Digite o valor a ser depositado: \"))\n",
    "            banco.deposito(valor)\n",
    "        elif opcao == \"s\":\n",
    "            valor = float(input(\"Digite o valor a ser sacado: \"))\n",
    "            banco.saque(valor)\n",
    "        elif opcao == \"e\":\n",
    "            banco.extrato()\n",
    "        elif opcao == \"q\":\n",
    "            print(\"Saindo...\")\n",
    "            break\n",
    "        else:\n",
    "            print(\"Opção inválida. Tente novamente.\")\n"
   ]
  },
  {
   "cell_type": "markdown",
   "id": "f1ed5f3a",
   "metadata": {
    "hidden": true
   },
   "source": [
    "**Vamos realizar alguns testes**:"
   ]
  },
  {
   "cell_type": "code",
   "execution_count": 69,
   "id": "aedffcf2",
   "metadata": {
    "hidden": true
   },
   "outputs": [
    {
     "name": "stdout",
     "output_type": "stream",
     "text": [
      "\n",
      "    [d] Depositar\n",
      "    [s] Sacar\n",
      "    [e] Extrato\n",
      "    [q] Sair\n",
      "\n",
      "    => e\n",
      "Não foram realizadas movimentações.\n",
      "\n",
      "    [d] Depositar\n",
      "    [s] Sacar\n",
      "    [e] Extrato\n",
      "    [q] Sair\n",
      "\n",
      "    => d\n",
      "Digite o valor a ser depositado: 2000\n",
      "Depósito de R$ 2000.00 realizado com sucesso.\n",
      "\n",
      "    [d] Depositar\n",
      "    [s] Sacar\n",
      "    [e] Extrato\n",
      "    [q] Sair\n",
      "\n",
      "    => s\n",
      "Digite o valor a ser sacado: 200\n",
      "Saque de R$ 200.00 realizado com sucesso.\n",
      "\n",
      "    [d] Depositar\n",
      "    [s] Sacar\n",
      "    [e] Extrato\n",
      "    [q] Sair\n",
      "\n",
      "    => e\n",
      "Extrato:\n",
      "Depósito: R$ 2000.00\n",
      "Saque: R$ 200.00\n",
      "Saldo atual: R$ 1800.00\n",
      "\n",
      "    [d] Depositar\n",
      "    [s] Sacar\n",
      "    [e] Extrato\n",
      "    [q] Sair\n",
      "\n",
      "    => q\n",
      "Saindo...\n"
     ]
    }
   ],
   "source": [
    "main()"
   ]
  },
  {
   "cell_type": "markdown",
   "id": "b63cfdfc",
   "metadata": {
    "heading_collapsed": true,
    "hidden": true
   },
   "source": [
    "## Conclusão:"
   ]
  },
  {
   "cell_type": "markdown",
   "id": "d2b02960",
   "metadata": {
    "hidden": true
   },
   "source": [
    "**Neste desafio, implementamos um sistema básico que oferece as funcionalidades de depósito, saque e extrato.**\n",
    "\n",
    "**Ao longo do desafio, exploramos diferentes abordagens, incluindo a programação orientada a objetos e o uso de funções. Ambas as abordagens têm suas vantagens e podem ser escolhidas de acordo com as necessidades do projeto.**\n",
    "\n",
    "**No código baseado em classes, utilizamos a classe Banco para encapsular as operações bancárias e o estado da conta. Isso nos permitiu criar instâncias dessa classe e realizar operações específicas em cada objeto.**\n",
    "\n",
    "**Já no código baseado em funções, mantivemos variáveis globais e definimos funções independentes para cada operação bancária. Essa abordagem pode ser mais adequada para casos mais simples ou quando não é necessário manter o estado em objetos.**\n",
    "\n",
    "**Independentemente da abordagem escolhida, foi possível criar um sistema funcional que atendeu aos requisitos do banco. Implementamos a lógica para realizar depósitos, saques e exibir o extrato, levando em consideração limites diários de saques e validando os valores inseridos.**\n",
    "\n",
    "**Ao concluir o desafio, aprendemos sobre a importância da organização do código, modularidade, encapsulamento de dados e reutilização de código. Além disso, exploramos o uso de estruturas de controle, como loops e condicionais, para criar uma interface interativa com o usuário.**\n",
    "\n",
    "**No geral, o desafio nos permitiu aplicar nossos conhecimentos em Python e demonstrar a capacidade de desenvolver soluções modernas para atender às necessidades de um banco.**"
   ]
  },
  {
   "cell_type": "code",
   "execution_count": null,
   "id": "bde8690c",
   "metadata": {
    "hidden": true
   },
   "outputs": [],
   "source": []
  }
 ],
 "metadata": {
  "kernelspec": {
   "display_name": "Python 3 (ipykernel)",
   "language": "python",
   "name": "python3"
  },
  "language_info": {
   "codemirror_mode": {
    "name": "ipython",
    "version": 3
   },
   "file_extension": ".py",
   "mimetype": "text/x-python",
   "name": "python",
   "nbconvert_exporter": "python",
   "pygments_lexer": "ipython3",
   "version": "3.9.12"
  }
 },
 "nbformat": 4,
 "nbformat_minor": 5
}
